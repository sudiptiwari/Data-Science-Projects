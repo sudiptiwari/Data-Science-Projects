{
 "cells": [
  {
   "cell_type": "markdown",
   "id": "0ebf48db-9b98-4fb6-8785-1ecad0f9258e",
   "metadata": {
    "id": "0ebf48db-9b98-4fb6-8785-1ecad0f9258e"
   },
   "source": [
    "### Topics to be discussed.\n",
    "- Mean, Median, Mode and their relationship ==> Skewed Right, symmetric, Skewed Left\n",
    "- Range, verience, standard deviation\n",
    "- Normal distribution and standard deviation (1 standard deviation of the mean- 68%, 2 standard deviation 95%, 3 standard deviation 99.7%...)\n",
    "- Z-score (standard deviation 1, mean = 0, z-score= number of sd)\n",
    "- Inter quatile range.\n",
    "- Statistical testing (t-test, one way, two way)\n",
    "- Correlation\n",
    "- Hypotheis testing"
   ]
  },
  {
   "cell_type": "markdown",
   "id": "fa5ea51e-77e6-4b23-9c7b-4bd33ddfb51b",
   "metadata": {
    "id": "fa5ea51e-77e6-4b23-9c7b-4bd33ddfb51b"
   },
   "source": [
    "### Problem 1: Mean, Median, Mode\n",
    "A retail company wants to analyze the sales data of its top-selling product over the past year to gain insights into customer purchasing behavior. The company has collected daily sales data for this product and wants to understand the central tendency of sales figures. By calculating the mean, median, and mode of the sales data, the company aims to identify patterns, understand typical sales volumes, and detect any skewness or anomalies in the sales distribution. Generate the daily sales data for a year by yourself. Analyze the result.\n",
    "- use daily_sales.csv"
   ]
  },
  {
   "cell_type": "code",
   "execution_count": 1,
   "id": "11a7e76d-5a27-4863-bf4e-4d1846d20fb3",
   "metadata": {
    "id": "11a7e76d-5a27-4863-bf4e-4d1846d20fb3"
   },
   "outputs": [],
   "source": [
    "import pandas as pd\n",
    "import numpy as np"
   ]
  },
  {
   "cell_type": "code",
   "execution_count": 2,
   "id": "ed4e3518-5275-440b-b6d1-f489efad9a99",
   "metadata": {},
   "outputs": [
    {
     "data": {
      "text/html": [
       "<div>\n",
       "<style scoped>\n",
       "    .dataframe tbody tr th:only-of-type {\n",
       "        vertical-align: middle;\n",
       "    }\n",
       "\n",
       "    .dataframe tbody tr th {\n",
       "        vertical-align: top;\n",
       "    }\n",
       "\n",
       "    .dataframe thead th {\n",
       "        text-align: right;\n",
       "    }\n",
       "</style>\n",
       "<table border=\"1\" class=\"dataframe\">\n",
       "  <thead>\n",
       "    <tr style=\"text-align: right;\">\n",
       "      <th></th>\n",
       "      <th>Daily Sales</th>\n",
       "    </tr>\n",
       "  </thead>\n",
       "  <tbody>\n",
       "    <tr>\n",
       "      <th>0</th>\n",
       "      <td>23</td>\n",
       "    </tr>\n",
       "    <tr>\n",
       "      <th>1</th>\n",
       "      <td>15</td>\n",
       "    </tr>\n",
       "    <tr>\n",
       "      <th>2</th>\n",
       "      <td>21</td>\n",
       "    </tr>\n",
       "    <tr>\n",
       "      <th>3</th>\n",
       "      <td>25</td>\n",
       "    </tr>\n",
       "    <tr>\n",
       "      <th>4</th>\n",
       "      <td>15</td>\n",
       "    </tr>\n",
       "  </tbody>\n",
       "</table>\n",
       "</div>"
      ],
      "text/plain": [
       "   Daily Sales\n",
       "0           23\n",
       "1           15\n",
       "2           21\n",
       "3           25\n",
       "4           15"
      ]
     },
     "execution_count": 2,
     "metadata": {},
     "output_type": "execute_result"
    }
   ],
   "source": [
    "df = pd.read_csv(\"./data/daily_sales.csv\")\n",
    "df.head()"
   ]
  },
  {
   "cell_type": "code",
   "execution_count": 3,
   "id": "8033a9f0-a526-4d8b-8820-f27fb6bacdbc",
   "metadata": {},
   "outputs": [
    {
     "name": "stdout",
     "output_type": "stream",
     "text": [
      "The mean is: \n",
      " Daily Sales    19.69589\n",
      "dtype: float64\n"
     ]
    }
   ],
   "source": [
    "print(\"The mean is: \\n\",df.mean())"
   ]
  },
  {
   "cell_type": "code",
   "execution_count": 4,
   "id": "8c825ab5-11f8-4402-a574-9e2328f79f99",
   "metadata": {},
   "outputs": [
    {
     "name": "stdout",
     "output_type": "stream",
     "text": [
      "The median is: \n",
      " Daily Sales    20.0\n",
      "dtype: float64\n"
     ]
    }
   ],
   "source": [
    "print(\"The median is: \\n\",df.median())"
   ]
  },
  {
   "cell_type": "code",
   "execution_count": 5,
   "id": "d44ced48-0039-4e1c-9010-f82303180035",
   "metadata": {},
   "outputs": [
    {
     "name": "stdout",
     "output_type": "stream",
     "text": [
      "The mode is: \n",
      "    Daily Sales\n",
      "0           22\n"
     ]
    }
   ],
   "source": [
    "print(\"The mode is: \\n\",df.mode())"
   ]
  },
  {
   "cell_type": "markdown",
   "id": "235b12ce-6db8-4711-bbb3-ffe3c5794357",
   "metadata": {
    "id": "235b12ce-6db8-4711-bbb3-ffe3c5794357"
   },
   "source": [
    "### Problem 2: Data distribution and plots\n",
    "You are tasked with analyzing the average monthly sales data of a retail store chain over the past year to determine if there has been a significant change in sales compared to the previous year. This analysis will help the store management understand the performance trends and plan future strategies accordingly. Load sales_data.csv.\n",
    "- find mean sales\n",
    "- find median sales\n",
    "- find mode sales\n",
    "- find skewness\n",
    "- plot histogram\n",
    "- density plot"
   ]
  },
  {
   "cell_type": "code",
   "execution_count": 6,
   "id": "7bebeb25-26f2-4a70-a04f-c9554f92c5ab",
   "metadata": {
    "id": "7bebeb25-26f2-4a70-a04f-c9554f92c5ab"
   },
   "outputs": [
    {
     "data": {
      "text/html": [
       "<div>\n",
       "<style scoped>\n",
       "    .dataframe tbody tr th:only-of-type {\n",
       "        vertical-align: middle;\n",
       "    }\n",
       "\n",
       "    .dataframe tbody tr th {\n",
       "        vertical-align: top;\n",
       "    }\n",
       "\n",
       "    .dataframe thead th {\n",
       "        text-align: right;\n",
       "    }\n",
       "</style>\n",
       "<table border=\"1\" class=\"dataframe\">\n",
       "  <thead>\n",
       "    <tr style=\"text-align: right;\">\n",
       "      <th></th>\n",
       "      <th>Month</th>\n",
       "      <th>Sales</th>\n",
       "    </tr>\n",
       "  </thead>\n",
       "  <tbody>\n",
       "    <tr>\n",
       "      <th>0</th>\n",
       "      <td>2023-01-31</td>\n",
       "      <td>15292.157038</td>\n",
       "    </tr>\n",
       "    <tr>\n",
       "      <th>1</th>\n",
       "      <td>2023-02-28</td>\n",
       "      <td>11200.471625</td>\n",
       "    </tr>\n",
       "    <tr>\n",
       "      <th>2</th>\n",
       "      <td>2023-03-31</td>\n",
       "      <td>12936.213952</td>\n",
       "    </tr>\n",
       "    <tr>\n",
       "      <th>3</th>\n",
       "      <td>2023-04-30</td>\n",
       "      <td>16722.679598</td>\n",
       "    </tr>\n",
       "    <tr>\n",
       "      <th>4</th>\n",
       "      <td>2023-05-31</td>\n",
       "      <td>15602.673970</td>\n",
       "    </tr>\n",
       "    <tr>\n",
       "      <th>5</th>\n",
       "      <td>2023-06-30</td>\n",
       "      <td>7068.166360</td>\n",
       "    </tr>\n",
       "    <tr>\n",
       "      <th>6</th>\n",
       "      <td>2023-07-31</td>\n",
       "      <td>12850.265253</td>\n",
       "    </tr>\n",
       "    <tr>\n",
       "      <th>7</th>\n",
       "      <td>2023-08-31</td>\n",
       "      <td>9545.928375</td>\n",
       "    </tr>\n",
       "    <tr>\n",
       "      <th>8</th>\n",
       "      <td>2023-09-30</td>\n",
       "      <td>9690.343445</td>\n",
       "    </tr>\n",
       "    <tr>\n",
       "      <th>9</th>\n",
       "      <td>2023-10-31</td>\n",
       "      <td>11231.795506</td>\n",
       "    </tr>\n",
       "    <tr>\n",
       "      <th>10</th>\n",
       "      <td>2023-11-30</td>\n",
       "      <td>10432.130713</td>\n",
       "    </tr>\n",
       "    <tr>\n",
       "      <th>11</th>\n",
       "      <td>2023-12-31</td>\n",
       "      <td>14362.820521</td>\n",
       "    </tr>\n",
       "  </tbody>\n",
       "</table>\n",
       "</div>"
      ],
      "text/plain": [
       "         Month         Sales\n",
       "0   2023-01-31  15292.157038\n",
       "1   2023-02-28  11200.471625\n",
       "2   2023-03-31  12936.213952\n",
       "3   2023-04-30  16722.679598\n",
       "4   2023-05-31  15602.673970\n",
       "5   2023-06-30   7068.166360\n",
       "6   2023-07-31  12850.265253\n",
       "7   2023-08-31   9545.928375\n",
       "8   2023-09-30   9690.343445\n",
       "9   2023-10-31  11231.795506\n",
       "10  2023-11-30  10432.130713\n",
       "11  2023-12-31  14362.820521"
      ]
     },
     "execution_count": 6,
     "metadata": {},
     "output_type": "execute_result"
    }
   ],
   "source": [
    "df_sales = pd.read_csv('./data/sales_data.csv')\n",
    "df_sales"
   ]
  },
  {
   "cell_type": "code",
   "execution_count": 7,
   "id": "f1d4712b-a61a-498a-ba41-67fb1ba60cf0",
   "metadata": {},
   "outputs": [
    {
     "name": "stdout",
     "output_type": "stream",
     "text": [
      "The mean of Sales is:\n",
      " 12244.63719635305\n"
     ]
    }
   ],
   "source": [
    "print(\"The mean of Sales is:\\n\",df_sales['Sales'].mean())"
   ]
  },
  {
   "cell_type": "code",
   "execution_count": 8,
   "id": "6901b914-954b-49b8-be17-ad1bad5ab653",
   "metadata": {},
   "outputs": [
    {
     "name": "stdout",
     "output_type": "stream",
     "text": [
      "The median of Sales is:\n",
      " 12041.030379195941\n"
     ]
    }
   ],
   "source": [
    "print(\"The median of Sales is:\\n\",df_sales['Sales'].median())"
   ]
  },
  {
   "cell_type": "code",
   "execution_count": 9,
   "id": "297eb838-d971-4d43-9344-93280313c51a",
   "metadata": {},
   "outputs": [
    {
     "name": "stdout",
     "output_type": "stream",
     "text": [
      "The mode of Sales is:\n",
      " 0      7068.166360\n",
      "1      9545.928375\n",
      "2      9690.343445\n",
      "3     10432.130713\n",
      "4     11200.471625\n",
      "5     11231.795506\n",
      "6     12850.265253\n",
      "7     12936.213952\n",
      "8     14362.820521\n",
      "9     15292.157038\n",
      "10    15602.673970\n",
      "11    16722.679598\n",
      "Name: Sales, dtype: float64\n"
     ]
    }
   ],
   "source": [
    "print(\"The mode of Sales is:\\n\",df_sales['Sales'].mode())"
   ]
  },
  {
   "cell_type": "code",
   "execution_count": 10,
   "id": "222a6cca-5a66-4cf7-b42d-e1411d9d0803",
   "metadata": {},
   "outputs": [
    {
     "name": "stdout",
     "output_type": "stream",
     "text": [
      "The skewness of Sales is:\n",
      " -0.07734448027250686\n"
     ]
    }
   ],
   "source": [
    "print(\"The skewness of Sales is:\\n\",df_sales['Sales'].skew())"
   ]
  },
  {
   "cell_type": "markdown",
   "id": "a8a94352-7b13-4b90-b82e-fe8f0afa2c9d",
   "metadata": {},
   "source": [
    "### Negative skew means it has longer tail of left side, meaning more data are concentrated on right side. So, Median is generally higher than Mean but in this case it is not."
   ]
  },
  {
   "cell_type": "code",
   "execution_count": 11,
   "id": "f7bafd8a-90c7-4907-8109-1714bd17c3b2",
   "metadata": {},
   "outputs": [
    {
     "data": {
      "image/png": "[encoded data removed]",
      "text/plain": [
       "<Figure size 1500x1000 with 1 Axes>"
      ]
     },
     "metadata": {},
     "output_type": "display_data"
    }
   ],
   "source": [
    "import matplotlib.pyplot as plt\n",
    "ax = df_sales['Sales'].plot(kind='bar', title =\"Sales For Each Month\", figsize=(15, 10), legend=True, fontsize=12)\n",
    "ax.set_xlabel(\"Month\", fontsize=12)\n",
    "ax.set_ylabel(\"Sales\", fontsize=12)\n",
    "plt.show()"
   ]
  },
  {
   "cell_type": "code",
   "execution_count": 12,
   "id": "b91b767b-d66c-4a2c-8651-e22ad1d68733",
   "metadata": {
    "id": "b91b767b-d66c-4a2c-8651-e22ad1d68733"
   },
   "outputs": [
    {
     "data": {
      "text/plain": [
       "<Axes: ylabel='Density'>"
      ]
     },
     "execution_count": 12,
     "metadata": {},
     "output_type": "execute_result"
    },
    {
     "data": {
      "image/png": "[encoded data removed]",
      "text/plain": [
       "<Figure size 640x480 with 1 Axes>"
      ]
     },
     "metadata": {},
     "output_type": "display_data"
    }
   ],
   "source": [
    "df_sales.plot.density()"
   ]
  },
  {
   "cell_type": "markdown",
   "id": "e8ac4216-ce5a-4f85-9a8d-37dcb6302e3d",
   "metadata": {
    "id": "e8ac4216-ce5a-4f85-9a8d-37dcb6302e3d"
   },
   "source": [
    "### Problem 3: Outlier detection\n",
    "A university wants to analyze the exam scores of a statistics class to identify any students whose scores are significantly different from the rest. Detecting outliers will help the university provide additional support to struggling students or recognize exceptionally high performers. The university decides to use both the Z-score and the Interquartile Range (IQR) methods to identify these outliers in the exam scores dataset.\n",
    "- Generate the subject score for full mark 100 for 50 students.\n",
    "\n",
    "Hints:\n",
    "- Z-score is greater than 3.\n",
    "- below - Q1−1.5×IQR or above Q3+1.5×IQR"
   ]
  },
  {
   "cell_type": "code",
   "execution_count": 13,
   "id": "6e0a737c-3786-4b62-a432-ac3625c663fc",
   "metadata": {
    "id": "6e0a737c-3786-4b62-a432-ac3625c663fc"
   },
   "outputs": [
    {
     "data": {
      "text/plain": [
       "array([ 1, 54, 77, 74, 56, 73, 70, 72, 76, 74, 81, 65, 73, 83, 68, 66, 72,\n",
       "       63, 40, 62, 72, 72, 69, 60, 72, 69, 79, 83, 77, 65, 70, 70, 68, 78,\n",
       "       72, 78, 80, 65, 61, 66, 74, 67, 71, 59, 92, 63, 76, 62, 86, 70])"
      ]
     },
     "execution_count": 13,
     "metadata": {},
     "output_type": "execute_result"
    }
   ],
   "source": [
    "rng = np.random.default_rng()\n",
    "marks = rng.poisson(70, 50)\n",
    "marks\n",
    "marks[0] = 1 # Adding outlier manually\n",
    "marks"
   ]
  },
  {
   "cell_type": "code",
   "execution_count": 14,
   "id": "6e7fd3f2-34b5-4635-8e90-994e180e9017",
   "metadata": {
    "id": "6e7fd3f2-34b5-4635-8e90-994e180e9017"
   },
   "outputs": [
    {
     "name": "stdout",
     "output_type": "stream",
     "text": [
      "Q1:  65.0\n",
      "Q3:  75.5\n",
      "Inter Quarter Range:  10.5\n"
     ]
    }
   ],
   "source": [
    "q1 = np.percentile(marks, 25)  # Q1\n",
    "print(\"Q1: \",q1)\n",
    "q3 = np.percentile(marks, 75)  # Q3\n",
    "print(\"Q3: \",q3)\n",
    "inter_quartile_range = q3 - q1\n",
    "print(\"Inter Quarter Range: \",inter_quartile_range)"
   ]
  },
  {
   "cell_type": "code",
   "execution_count": 15,
   "id": "33c887b4-058f-4ee9-9b35-0b80714cf7e2",
   "metadata": {},
   "outputs": [
    {
     "data": {
      "text/plain": [
       "[]"
      ]
     },
     "execution_count": 15,
     "metadata": {},
     "output_type": "execute_result"
    }
   ],
   "source": [
    "# Initializing empty list to add outliers\n",
    "outliers_marks = []\n",
    "outliers_index = []\n",
    "outliers_marks\n",
    "outliers_index"
   ]
  },
  {
   "cell_type": "code",
   "execution_count": 16,
   "id": "0c3ee4a1-0d21-47f0-9aaa-b607d4607389",
   "metadata": {},
   "outputs": [
    {
     "name": "stdout",
     "output_type": "stream",
     "text": [
      "[1, 40, 92]\n",
      "[0, 18, 44]\n"
     ]
    }
   ],
   "source": [
    "# Algorithm\n",
    "for i,mark in enumerate(marks):\n",
    "    if mark < q1-1.5*inter_quartile_range or mark > q3+1.5*inter_quartile_range:\n",
    "        outliers_marks.append(mark)\n",
    "        outliers_index.append(i)\n",
    "\n",
    "print(outliers_marks)\n",
    "print(outliers_index)"
   ]
  },
  {
   "cell_type": "markdown",
   "id": "f4ed11d1-0686-42a9-bc09-d89b6a468949",
   "metadata": {},
   "source": [
    "## Outlier Detection by Z Score"
   ]
  },
  {
   "cell_type": "code",
   "execution_count": 17,
   "id": "31896fcf-f285-45fb-aa58-9f0b04a63720",
   "metadata": {},
   "outputs": [],
   "source": [
    "# Functin to calculate Z-score for each data point\n",
    "def calculate_z_score(data_list):\n",
    "    \"\"\"\n",
    "    Calculate Z-score for each data point in a NumPy array.\n",
    "\n",
    "    Parameters:\n",
    "    data_list (numpy.ndarray): Input array of data points.\n",
    "\n",
    "    Returns:\n",
    "    numpy.ndarray: Z-scores corresponding to each data point.\n",
    "    \"\"\"\n",
    "    if not isinstance(data_list, np.ndarray):\n",
    "        raise TypeError(\"Input data_list must be a NumPy array\")\n",
    "\n",
    "    mean_of_data_list = np.mean(data_list)\n",
    "    standard_deviation_of_data_list = np.std(data_list)\n",
    "\n",
    "    # Avoid division by zero if standard deviation is zero\n",
    "    if standard_deviation_of_data_list == 0:\n",
    "        raise ValueError(\"Standard deviation of data_list is zero. Cannot compute Z-score.\")\n",
    "\n",
    "    z_scores = (data_list - mean_of_data_list) / standard_deviation_of_data_list\n",
    "    return z_scores"
   ]
  },
  {
   "cell_type": "code",
   "execution_count": 18,
   "id": "242d032b-f6bd-449b-b81c-475ebb3b768c",
   "metadata": {},
   "outputs": [
    {
     "name": "stdout",
     "output_type": "stream",
     "text": [
      "[-5.21607911 -1.14581714  0.62052296  0.39013077 -0.99222235  0.31333337\n",
      "  0.08294119  0.23653598  0.54372556  0.39013077  0.92771254 -0.30104579\n",
      "  0.31333337  1.08130733 -0.0706536  -0.2242484   0.23653598 -0.45464058\n",
      " -2.22098068 -0.53143798  0.23653598  0.23653598  0.00614379 -0.68503277\n",
      "  0.23653598  0.00614379  0.77411775  1.08130733  0.62052296 -0.30104579\n",
      "  0.08294119  0.08294119 -0.0706536   0.69732035  0.23653598  0.69732035\n",
      "  0.85091514 -0.30104579 -0.60823537 -0.2242484   0.39013077 -0.147451\n",
      "  0.15973858 -0.76183016  1.77248389 -0.45464058  0.54372556 -0.53143798\n",
      "  1.31169952  0.08294119]\n"
     ]
    }
   ],
   "source": [
    "z_scores = calculate_z_score(marks)\n",
    "print(z_scores)"
   ]
  },
  {
   "cell_type": "code",
   "execution_count": 19,
   "id": "4063674d-d307-4dea-91cd-2b39c6525c01",
   "metadata": {},
   "outputs": [
    {
     "name": "stdout",
     "output_type": "stream",
     "text": [
      "The index of Outliers are as:\n",
      " [ True False False False False False False False False False False False\n",
      " False False False False False False False False False False False False\n",
      " False False False False False False False False False False False False\n",
      " False False False False False False False False False False False False\n",
      " False False]\n",
      "The outlier marks are:\n",
      " [1]\n"
     ]
    }
   ],
   "source": [
    "''' Z scores having value greater than 3 or\n",
    "    less than -3 are Outliers in data '''\n",
    "def outlier_detection(marks, z_scores_list, standard_deviation):\n",
    "    outliers_index = np.abs(z_scores_list) > 3\n",
    "    return outliers_index, marks[outliers_index]\n",
    "\n",
    "outliers_index, outlier_marks = outlier_detection(marks, z_scores, np.std(marks))\n",
    "print(\"The index of Outliers are as:\\n\",outliers_index)\n",
    "print(\"The outlier marks are:\\n\",outlier_marks)"
   ]
  },
  {
   "cell_type": "markdown",
   "id": "fc5f431d-5d13-4e7d-8723-66be2ae00eba",
   "metadata": {
    "id": "fc5f431d-5d13-4e7d-8723-66be2ae00eba"
   },
   "source": [
    "### Problem 4: t-test for ML models\n",
    "Your task is to write Python code to perform t-tests on the testing results of five different machine learning algorithms. First, generate testing results for each of the five models, with each model having results for 50 test sets. Then, using these generated results, conduct t-tests to compare the results of the first model with those of each of the remaining four models. The goal is to determine if there is a statistically significant difference between the performance of the first model and each of the other models. Finally, print the results of each t-test, which will include the t-statistic and p-value for each comparison. And analyze the result whether the methods are statistically significant or not. What does it mean?"
   ]
  },
  {
   "cell_type": "code",
   "execution_count": 20,
   "id": "30004282-3e27-49f4-aa53-1a54a014b00c",
   "metadata": {
    "id": "30004282-3e27-49f4-aa53-1a54a014b00c"
   },
   "outputs": [],
   "source": [
    "# Generate testing results for 5 models with 50 test sets each\n",
    "np.random.seed(91)  # For reproducibility\n",
    "\n",
    "num_test_sets = 50\n",
    "num_models = 5\n",
    "\n",
    "results = []\n",
    "for i in range(num_models):\n",
    "    # Generate random testing results (example: accuracy scores)\n",
    "    model_results = np.random.rand(num_test_sets) * 100  # Example results (0-100)\n",
    "    results.append(model_results)\n",
    "\n",
    "# Convert results to NumPy array for easier handling\n",
    "results = np.array(results)"
   ]
  },
  {
   "cell_type": "code",
   "execution_count": 21,
   "id": "f88a75f2-e368-45b5-aef0-69c8d15a754c",
   "metadata": {
    "id": "f88a75f2-e368-45b5-aef0-69c8d15a754c"
   },
   "outputs": [
    {
     "name": "stdout",
     "output_type": "stream",
     "text": [
      "T-test between Model 1 and Model 2:\n",
      "T-statistic: -1.4448293647931956\n",
      "P-value: 0.1516957251871068\n",
      "---------------------------------------\n",
      "T-test between Model 1 and Model 3:\n",
      "T-statistic: -2.088840239803215\n",
      "P-value: 0.039313575847350166\n",
      "---------------------------------------\n",
      "T-test between Model 1 and Model 4:\n",
      "T-statistic: -0.7614442373840565\n",
      "P-value: 0.44822025693045875\n",
      "---------------------------------------\n",
      "T-test between Model 1 and Model 5:\n",
      "T-statistic: -0.23628025454987908\n",
      "P-value: 0.8137083446320889\n",
      "---------------------------------------\n"
     ]
    }
   ],
   "source": [
    "from scipy import stats\n",
    "\n",
    "# Perform t-tests between the first model and each of the other models\n",
    "for i in range(1, num_models):\n",
    "    model1_results = results[0]  # Results of the first model\n",
    "    model2_results = results[i]  # Results of the current comparison model\n",
    "    \n",
    "    # Perform t-test\n",
    "    t_statistic, p_value = stats.ttest_ind(model1_results, model2_results)\n",
    "    \n",
    "    # Print results\n",
    "    print(f\"T-test between Model 1 and Model {i + 1}:\")\n",
    "    print(f\"T-statistic: {t_statistic}\")\n",
    "    print(f\"P-value: {p_value}\")\n",
    "    print(\"---------------------------------------\")\n"
   ]
  },
  {
   "cell_type": "markdown",
   "id": "029ede27-b423-4eba-bca3-a3f6e6be132c",
   "metadata": {},
   "source": [
    "### T-statistic: Measures the difference between the means of two groups (models in this case) relative to the variation within the groups. A larger t-statistic suggests a larger difference between the groups.\n",
    "\n",
    "### P-value: Indicates the probability of observing the data (or more extreme results) under the assumption that the null hypothesis is true (i.e., there is no difference between the models). A lower p-value (typically below a significance level like 0.05) suggests stronger evidence **against** the null hypothesis, indicating that the difference is statistically significant."
   ]
  },
  {
   "cell_type": "markdown",
   "id": "95a8acc2-a6ad-4464-8cec-6d602e616013",
   "metadata": {},
   "source": [
    "## If we take p-value to be 0.04, then the results of Model 1 and # are significantly different from eachother. The results of Model 1 and other models are not significantly different."
   ]
  },
  {
   "cell_type": "markdown",
   "id": "9724abb7-177d-48de-bde6-03a909335d66",
   "metadata": {
    "id": "9724abb7-177d-48de-bde6-03a909335d66"
   },
   "source": [
    "### Problem 5: Correlation Analysis\n",
    "- A coffee shop owner wants to determine whether there is a relationship between the amount of coffee sold and the temperature outside. The owner collects data on the number of cups of coffee sold and the temperature outside for 20 days.\n",
    "- Download mtcars.csv file and perform the correlation analysis. See the result and analyze it. Also plot the heatmap for it."
   ]
  },
  {
   "cell_type": "markdown",
   "id": "cef914eb-f849-44de-b74d-3bd59428d257",
   "metadata": {},
   "source": [
    "## Coffee Shop Analysis"
   ]
  },
  {
   "cell_type": "code",
   "execution_count": 22,
   "id": "4ef25d59-7345-4447-8e84-309f0bcd6dda",
   "metadata": {},
   "outputs": [
    {
     "name": "stdout",
     "output_type": "stream",
     "text": [
      "Day\tTemperature (C)\tCoffee Sold\n",
      "----------------------------------\n",
      "1\t10.66\t\t14\n",
      "2\t10.23\t\t15\n",
      "3\t27.99\t\t23\n",
      "4\t27.41\t\t20\n",
      "5\t25.12\t\t21\n",
      "6\t1.78\t\t11\n",
      "7\t7.45\t\t9\n",
      "8\t15.27\t\t13\n",
      "9\t2.69\t\t12\n",
      "10\t23.55\t\t15\n",
      "11\t11.97\t\t12\n",
      "12\t13.28\t\t11\n",
      "13\t23.05\t\t19\n",
      "14\t16.98\t\t15\n",
      "15\t7.36\t\t13\n",
      "16\t16.35\t\t10\n",
      "17\t4.34\t\t10\n",
      "18\t13.47\t\t11\n",
      "19\t13.96\t\t12\n",
      "20\t21.52\t\t17\n"
     ]
    }
   ],
   "source": [
    "# Set seed for reproducibility\n",
    "np.random.seed(81)\n",
    "\n",
    "num_days = 20\n",
    "\n",
    "# Generate random temperature data (assuming temperatures between 0 and 30 degrees Celsius)\n",
    "temperatures = np.random.uniform(0, 30, num_days)\n",
    "\n",
    "# Define linear relationship between coffee sold and temperature with some random noise\n",
    "# Assume on average, coffee sold increases by 2 cups for every 5-degree increase in temperature\n",
    "# Add random noise for variability\n",
    "coffee_sold = (temperatures / 5 * 2) + np.random.normal(loc = 10, scale = 3, size = num_days)\n",
    "# coffee_sold = np.random.normal(10, 3, num_days)\n",
    "# Convert float array to integer array\n",
    "coffee_sold = coffee_sold.astype(int)\n",
    "\n",
    "# Print generated data for verification\n",
    "print(\"Day\\tTemperature (C)\\tCoffee Sold\")\n",
    "print(\"----------------------------------\")\n",
    "for day in range(num_days):\n",
    "    print(f\"{day + 1}\\t{temperatures[day]:.2f}\\t\\t{coffee_sold[day]}\")"
   ]
  },
  {
   "cell_type": "code",
   "execution_count": 23,
   "id": "e3e9fe1b-86d9-480f-b102-2354a6d89ba2",
   "metadata": {},
   "outputs": [
    {
     "name": "stdout",
     "output_type": "stream",
     "text": [
      "Correlation Coefficient:  0.8136362143293885\n"
     ]
    }
   ],
   "source": [
    "def calculate_correlation_coefficient(x, y, n):\n",
    "    \"\"\"\n",
    "    Calculate Karl Pearson's correlation coefficient.\n",
    "\n",
    "    Parameters:\n",
    "    x (numpy.ndarray) : Temperatures\n",
    "    y (numpy.ndarray) : Coffee Sales\n",
    "    n (integer) : Number of days\n",
    "\n",
    "    Returns:\n",
    "    float : Karl Pearson's Coefficient\n",
    "    \"\"\"\n",
    "    xy = x*y\n",
    "    x_2 = np.square(x)\n",
    "    y_2 = np.square(y)\n",
    "    x_sum = np.sum(x)\n",
    "    y_sum = np.sum(y)\n",
    "    xy_sum = np.sum(xy)\n",
    "    x_2_sum = np.sum(x_2)\n",
    "    y_2_sum = np.sum(y_2)\n",
    "    r = ( n * xy_sum - x_sum * y_sum )/( np.sqrt((n*x_2_sum - x_sum**2) * (n*y_2_sum - y_sum**2) ) )\n",
    "    return r\n",
    "    \n",
    "    # Compute sums and products\n",
    "    # xy_sum = np.sum(x * y)\n",
    "    # x_sum = np.sum(x)\n",
    "    # y_sum = np.sum(y)\n",
    "    # x_2_sum = np.sum(x**2)\n",
    "    # y_2_sum = np.sum(y**2)\n",
    "    \n",
    "    # # Calculate correlation coefficient (r)\n",
    "    # numerator = n * xy_sum - x_sum * y_sum\n",
    "    # denominator = np.sqrt((n * x_2_sum - x_sum**2) * (n * y_2_sum - y_sum**2))\n",
    "    # r = numerator / denominator\n",
    "    \n",
    "    # return r\n",
    "\n",
    "r = calculate_correlation_coefficient(temperatures, coffee_sold, num_days)\n",
    "print(\"Correlation Coefficient: \", r)"
   ]
  },
  {
   "cell_type": "markdown",
   "id": "8af681ae-dc8a-418f-a0d2-367f19d6bd05",
   "metadata": {},
   "source": [
    "## Correlation Coefficient close to 1 means there lies strong relationship between Temperature and Coffee Sold."
   ]
  },
  {
   "cell_type": "code",
   "execution_count": 24,
   "id": "d53ca420-eed1-41a6-aa17-2ae6321d8ad1",
   "metadata": {},
   "outputs": [
    {
     "data": {
      "text/html": [
       "<div>\n",
       "<style scoped>\n",
       "    .dataframe tbody tr th:only-of-type {\n",
       "        vertical-align: middle;\n",
       "    }\n",
       "\n",
       "    .dataframe tbody tr th {\n",
       "        vertical-align: top;\n",
       "    }\n",
       "\n",
       "    .dataframe thead th {\n",
       "        text-align: right;\n",
       "    }\n",
       "</style>\n",
       "<table border=\"1\" class=\"dataframe\">\n",
       "  <thead>\n",
       "    <tr style=\"text-align: right;\">\n",
       "      <th></th>\n",
       "      <th>model</th>\n",
       "      <th>mpg</th>\n",
       "      <th>cyl</th>\n",
       "      <th>disp</th>\n",
       "      <th>hp</th>\n",
       "      <th>drat</th>\n",
       "      <th>wt</th>\n",
       "      <th>qsec</th>\n",
       "      <th>vs</th>\n",
       "      <th>am</th>\n",
       "      <th>gear</th>\n",
       "      <th>carb</th>\n",
       "    </tr>\n",
       "  </thead>\n",
       "  <tbody>\n",
       "    <tr>\n",
       "      <th>0</th>\n",
       "      <td>Mazda RX4</td>\n",
       "      <td>21.0</td>\n",
       "      <td>6</td>\n",
       "      <td>160.0</td>\n",
       "      <td>110</td>\n",
       "      <td>3.90</td>\n",
       "      <td>2.620</td>\n",
       "      <td>16.46</td>\n",
       "      <td>0</td>\n",
       "      <td>1</td>\n",
       "      <td>4</td>\n",
       "      <td>4</td>\n",
       "    </tr>\n",
       "    <tr>\n",
       "      <th>1</th>\n",
       "      <td>Mazda RX4 Wag</td>\n",
       "      <td>21.0</td>\n",
       "      <td>6</td>\n",
       "      <td>160.0</td>\n",
       "      <td>110</td>\n",
       "      <td>3.90</td>\n",
       "      <td>2.875</td>\n",
       "      <td>17.02</td>\n",
       "      <td>0</td>\n",
       "      <td>1</td>\n",
       "      <td>4</td>\n",
       "      <td>4</td>\n",
       "    </tr>\n",
       "    <tr>\n",
       "      <th>2</th>\n",
       "      <td>Datsun 710</td>\n",
       "      <td>22.8</td>\n",
       "      <td>4</td>\n",
       "      <td>108.0</td>\n",
       "      <td>93</td>\n",
       "      <td>3.85</td>\n",
       "      <td>2.320</td>\n",
       "      <td>18.61</td>\n",
       "      <td>1</td>\n",
       "      <td>1</td>\n",
       "      <td>4</td>\n",
       "      <td>1</td>\n",
       "    </tr>\n",
       "    <tr>\n",
       "      <th>3</th>\n",
       "      <td>Hornet 4 Drive</td>\n",
       "      <td>21.4</td>\n",
       "      <td>6</td>\n",
       "      <td>258.0</td>\n",
       "      <td>110</td>\n",
       "      <td>3.08</td>\n",
       "      <td>3.215</td>\n",
       "      <td>19.44</td>\n",
       "      <td>1</td>\n",
       "      <td>0</td>\n",
       "      <td>3</td>\n",
       "      <td>1</td>\n",
       "    </tr>\n",
       "    <tr>\n",
       "      <th>4</th>\n",
       "      <td>Hornet Sportabout</td>\n",
       "      <td>18.7</td>\n",
       "      <td>8</td>\n",
       "      <td>360.0</td>\n",
       "      <td>175</td>\n",
       "      <td>3.15</td>\n",
       "      <td>3.440</td>\n",
       "      <td>17.02</td>\n",
       "      <td>0</td>\n",
       "      <td>0</td>\n",
       "      <td>3</td>\n",
       "      <td>2</td>\n",
       "    </tr>\n",
       "    <tr>\n",
       "      <th>5</th>\n",
       "      <td>Valiant</td>\n",
       "      <td>18.1</td>\n",
       "      <td>6</td>\n",
       "      <td>225.0</td>\n",
       "      <td>105</td>\n",
       "      <td>2.76</td>\n",
       "      <td>3.460</td>\n",
       "      <td>20.22</td>\n",
       "      <td>1</td>\n",
       "      <td>0</td>\n",
       "      <td>3</td>\n",
       "      <td>1</td>\n",
       "    </tr>\n",
       "    <tr>\n",
       "      <th>6</th>\n",
       "      <td>Duster 360</td>\n",
       "      <td>14.3</td>\n",
       "      <td>8</td>\n",
       "      <td>360.0</td>\n",
       "      <td>245</td>\n",
       "      <td>3.21</td>\n",
       "      <td>3.570</td>\n",
       "      <td>15.84</td>\n",
       "      <td>0</td>\n",
       "      <td>0</td>\n",
       "      <td>3</td>\n",
       "      <td>4</td>\n",
       "    </tr>\n",
       "    <tr>\n",
       "      <th>7</th>\n",
       "      <td>Merc 240D</td>\n",
       "      <td>24.4</td>\n",
       "      <td>4</td>\n",
       "      <td>146.7</td>\n",
       "      <td>62</td>\n",
       "      <td>3.69</td>\n",
       "      <td>3.190</td>\n",
       "      <td>20.00</td>\n",
       "      <td>1</td>\n",
       "      <td>0</td>\n",
       "      <td>4</td>\n",
       "      <td>2</td>\n",
       "    </tr>\n",
       "    <tr>\n",
       "      <th>8</th>\n",
       "      <td>Merc 230</td>\n",
       "      <td>22.8</td>\n",
       "      <td>4</td>\n",
       "      <td>140.8</td>\n",
       "      <td>95</td>\n",
       "      <td>3.92</td>\n",
       "      <td>3.150</td>\n",
       "      <td>22.90</td>\n",
       "      <td>1</td>\n",
       "      <td>0</td>\n",
       "      <td>4</td>\n",
       "      <td>2</td>\n",
       "    </tr>\n",
       "    <tr>\n",
       "      <th>9</th>\n",
       "      <td>Merc 280</td>\n",
       "      <td>19.2</td>\n",
       "      <td>6</td>\n",
       "      <td>167.6</td>\n",
       "      <td>123</td>\n",
       "      <td>3.92</td>\n",
       "      <td>3.440</td>\n",
       "      <td>18.30</td>\n",
       "      <td>1</td>\n",
       "      <td>0</td>\n",
       "      <td>4</td>\n",
       "      <td>4</td>\n",
       "    </tr>\n",
       "    <tr>\n",
       "      <th>10</th>\n",
       "      <td>Merc 280C</td>\n",
       "      <td>17.8</td>\n",
       "      <td>6</td>\n",
       "      <td>167.6</td>\n",
       "      <td>123</td>\n",
       "      <td>3.92</td>\n",
       "      <td>3.440</td>\n",
       "      <td>18.90</td>\n",
       "      <td>1</td>\n",
       "      <td>0</td>\n",
       "      <td>4</td>\n",
       "      <td>4</td>\n",
       "    </tr>\n",
       "    <tr>\n",
       "      <th>11</th>\n",
       "      <td>Merc 450SE</td>\n",
       "      <td>16.4</td>\n",
       "      <td>8</td>\n",
       "      <td>275.8</td>\n",
       "      <td>180</td>\n",
       "      <td>3.07</td>\n",
       "      <td>4.070</td>\n",
       "      <td>17.40</td>\n",
       "      <td>0</td>\n",
       "      <td>0</td>\n",
       "      <td>3</td>\n",
       "      <td>3</td>\n",
       "    </tr>\n",
       "    <tr>\n",
       "      <th>12</th>\n",
       "      <td>Merc 450SL</td>\n",
       "      <td>17.3</td>\n",
       "      <td>8</td>\n",
       "      <td>275.8</td>\n",
       "      <td>180</td>\n",
       "      <td>3.07</td>\n",
       "      <td>3.730</td>\n",
       "      <td>17.60</td>\n",
       "      <td>0</td>\n",
       "      <td>0</td>\n",
       "      <td>3</td>\n",
       "      <td>3</td>\n",
       "    </tr>\n",
       "    <tr>\n",
       "      <th>13</th>\n",
       "      <td>Merc 450SLC</td>\n",
       "      <td>15.2</td>\n",
       "      <td>8</td>\n",
       "      <td>275.8</td>\n",
       "      <td>180</td>\n",
       "      <td>3.07</td>\n",
       "      <td>3.780</td>\n",
       "      <td>18.00</td>\n",
       "      <td>0</td>\n",
       "      <td>0</td>\n",
       "      <td>3</td>\n",
       "      <td>3</td>\n",
       "    </tr>\n",
       "    <tr>\n",
       "      <th>14</th>\n",
       "      <td>Cadillac Fleetwood</td>\n",
       "      <td>10.4</td>\n",
       "      <td>8</td>\n",
       "      <td>472.0</td>\n",
       "      <td>205</td>\n",
       "      <td>2.93</td>\n",
       "      <td>5.250</td>\n",
       "      <td>17.98</td>\n",
       "      <td>0</td>\n",
       "      <td>0</td>\n",
       "      <td>3</td>\n",
       "      <td>4</td>\n",
       "    </tr>\n",
       "    <tr>\n",
       "      <th>15</th>\n",
       "      <td>Lincoln Continental</td>\n",
       "      <td>10.4</td>\n",
       "      <td>8</td>\n",
       "      <td>460.0</td>\n",
       "      <td>215</td>\n",
       "      <td>3.00</td>\n",
       "      <td>5.424</td>\n",
       "      <td>17.82</td>\n",
       "      <td>0</td>\n",
       "      <td>0</td>\n",
       "      <td>3</td>\n",
       "      <td>4</td>\n",
       "    </tr>\n",
       "    <tr>\n",
       "      <th>16</th>\n",
       "      <td>Chrysler Imperial</td>\n",
       "      <td>14.7</td>\n",
       "      <td>8</td>\n",
       "      <td>440.0</td>\n",
       "      <td>230</td>\n",
       "      <td>3.23</td>\n",
       "      <td>5.345</td>\n",
       "      <td>17.42</td>\n",
       "      <td>0</td>\n",
       "      <td>0</td>\n",
       "      <td>3</td>\n",
       "      <td>4</td>\n",
       "    </tr>\n",
       "    <tr>\n",
       "      <th>17</th>\n",
       "      <td>Fiat 128</td>\n",
       "      <td>32.4</td>\n",
       "      <td>4</td>\n",
       "      <td>78.7</td>\n",
       "      <td>66</td>\n",
       "      <td>4.08</td>\n",
       "      <td>2.200</td>\n",
       "      <td>19.47</td>\n",
       "      <td>1</td>\n",
       "      <td>1</td>\n",
       "      <td>4</td>\n",
       "      <td>1</td>\n",
       "    </tr>\n",
       "    <tr>\n",
       "      <th>18</th>\n",
       "      <td>Honda Civic</td>\n",
       "      <td>30.4</td>\n",
       "      <td>4</td>\n",
       "      <td>75.7</td>\n",
       "      <td>52</td>\n",
       "      <td>4.93</td>\n",
       "      <td>1.615</td>\n",
       "      <td>18.52</td>\n",
       "      <td>1</td>\n",
       "      <td>1</td>\n",
       "      <td>4</td>\n",
       "      <td>2</td>\n",
       "    </tr>\n",
       "    <tr>\n",
       "      <th>19</th>\n",
       "      <td>Toyota Corolla</td>\n",
       "      <td>33.9</td>\n",
       "      <td>4</td>\n",
       "      <td>71.1</td>\n",
       "      <td>65</td>\n",
       "      <td>4.22</td>\n",
       "      <td>1.835</td>\n",
       "      <td>19.90</td>\n",
       "      <td>1</td>\n",
       "      <td>1</td>\n",
       "      <td>4</td>\n",
       "      <td>1</td>\n",
       "    </tr>\n",
       "    <tr>\n",
       "      <th>20</th>\n",
       "      <td>Toyota Corona</td>\n",
       "      <td>21.5</td>\n",
       "      <td>4</td>\n",
       "      <td>120.1</td>\n",
       "      <td>97</td>\n",
       "      <td>3.70</td>\n",
       "      <td>2.465</td>\n",
       "      <td>20.01</td>\n",
       "      <td>1</td>\n",
       "      <td>0</td>\n",
       "      <td>3</td>\n",
       "      <td>1</td>\n",
       "    </tr>\n",
       "    <tr>\n",
       "      <th>21</th>\n",
       "      <td>Dodge Challenger</td>\n",
       "      <td>15.5</td>\n",
       "      <td>8</td>\n",
       "      <td>318.0</td>\n",
       "      <td>150</td>\n",
       "      <td>2.76</td>\n",
       "      <td>3.520</td>\n",
       "      <td>16.87</td>\n",
       "      <td>0</td>\n",
       "      <td>0</td>\n",
       "      <td>3</td>\n",
       "      <td>2</td>\n",
       "    </tr>\n",
       "    <tr>\n",
       "      <th>22</th>\n",
       "      <td>AMC Javelin</td>\n",
       "      <td>15.2</td>\n",
       "      <td>8</td>\n",
       "      <td>304.0</td>\n",
       "      <td>150</td>\n",
       "      <td>3.15</td>\n",
       "      <td>3.435</td>\n",
       "      <td>17.30</td>\n",
       "      <td>0</td>\n",
       "      <td>0</td>\n",
       "      <td>3</td>\n",
       "      <td>2</td>\n",
       "    </tr>\n",
       "    <tr>\n",
       "      <th>23</th>\n",
       "      <td>Camaro Z28</td>\n",
       "      <td>13.3</td>\n",
       "      <td>8</td>\n",
       "      <td>350.0</td>\n",
       "      <td>245</td>\n",
       "      <td>3.73</td>\n",
       "      <td>3.840</td>\n",
       "      <td>15.41</td>\n",
       "      <td>0</td>\n",
       "      <td>0</td>\n",
       "      <td>3</td>\n",
       "      <td>4</td>\n",
       "    </tr>\n",
       "    <tr>\n",
       "      <th>24</th>\n",
       "      <td>Pontiac Firebird</td>\n",
       "      <td>19.2</td>\n",
       "      <td>8</td>\n",
       "      <td>400.0</td>\n",
       "      <td>175</td>\n",
       "      <td>3.08</td>\n",
       "      <td>3.845</td>\n",
       "      <td>17.05</td>\n",
       "      <td>0</td>\n",
       "      <td>0</td>\n",
       "      <td>3</td>\n",
       "      <td>2</td>\n",
       "    </tr>\n",
       "    <tr>\n",
       "      <th>25</th>\n",
       "      <td>Fiat X1-9</td>\n",
       "      <td>27.3</td>\n",
       "      <td>4</td>\n",
       "      <td>79.0</td>\n",
       "      <td>66</td>\n",
       "      <td>4.08</td>\n",
       "      <td>1.935</td>\n",
       "      <td>18.90</td>\n",
       "      <td>1</td>\n",
       "      <td>1</td>\n",
       "      <td>4</td>\n",
       "      <td>1</td>\n",
       "    </tr>\n",
       "    <tr>\n",
       "      <th>26</th>\n",
       "      <td>Porsche 914-2</td>\n",
       "      <td>26.0</td>\n",
       "      <td>4</td>\n",
       "      <td>120.3</td>\n",
       "      <td>91</td>\n",
       "      <td>4.43</td>\n",
       "      <td>2.140</td>\n",
       "      <td>16.70</td>\n",
       "      <td>0</td>\n",
       "      <td>1</td>\n",
       "      <td>5</td>\n",
       "      <td>2</td>\n",
       "    </tr>\n",
       "    <tr>\n",
       "      <th>27</th>\n",
       "      <td>Lotus Europa</td>\n",
       "      <td>30.4</td>\n",
       "      <td>4</td>\n",
       "      <td>95.1</td>\n",
       "      <td>113</td>\n",
       "      <td>3.77</td>\n",
       "      <td>1.513</td>\n",
       "      <td>16.90</td>\n",
       "      <td>1</td>\n",
       "      <td>1</td>\n",
       "      <td>5</td>\n",
       "      <td>2</td>\n",
       "    </tr>\n",
       "    <tr>\n",
       "      <th>28</th>\n",
       "      <td>Ford Pantera L</td>\n",
       "      <td>15.8</td>\n",
       "      <td>8</td>\n",
       "      <td>351.0</td>\n",
       "      <td>264</td>\n",
       "      <td>4.22</td>\n",
       "      <td>3.170</td>\n",
       "      <td>14.50</td>\n",
       "      <td>0</td>\n",
       "      <td>1</td>\n",
       "      <td>5</td>\n",
       "      <td>4</td>\n",
       "    </tr>\n",
       "    <tr>\n",
       "      <th>29</th>\n",
       "      <td>Ferrari Dino</td>\n",
       "      <td>19.7</td>\n",
       "      <td>6</td>\n",
       "      <td>145.0</td>\n",
       "      <td>175</td>\n",
       "      <td>3.62</td>\n",
       "      <td>2.770</td>\n",
       "      <td>15.50</td>\n",
       "      <td>0</td>\n",
       "      <td>1</td>\n",
       "      <td>5</td>\n",
       "      <td>6</td>\n",
       "    </tr>\n",
       "    <tr>\n",
       "      <th>30</th>\n",
       "      <td>Maserati Bora</td>\n",
       "      <td>15.0</td>\n",
       "      <td>8</td>\n",
       "      <td>301.0</td>\n",
       "      <td>335</td>\n",
       "      <td>3.54</td>\n",
       "      <td>3.570</td>\n",
       "      <td>14.60</td>\n",
       "      <td>0</td>\n",
       "      <td>1</td>\n",
       "      <td>5</td>\n",
       "      <td>8</td>\n",
       "    </tr>\n",
       "    <tr>\n",
       "      <th>31</th>\n",
       "      <td>Volvo 142E</td>\n",
       "      <td>21.4</td>\n",
       "      <td>4</td>\n",
       "      <td>121.0</td>\n",
       "      <td>109</td>\n",
       "      <td>4.11</td>\n",
       "      <td>2.780</td>\n",
       "      <td>18.60</td>\n",
       "      <td>1</td>\n",
       "      <td>1</td>\n",
       "      <td>4</td>\n",
       "      <td>2</td>\n",
       "    </tr>\n",
       "  </tbody>\n",
       "</table>\n",
       "</div>"
      ],
      "text/plain": [
       "                  model   mpg  cyl   disp   hp  drat     wt   qsec  vs  am  \\\n",
       "0             Mazda RX4  21.0    6  160.0  110  3.90  2.620  16.46   0   1   \n",
       "1         Mazda RX4 Wag  21.0    6  160.0  110  3.90  2.875  17.02   0   1   \n",
       "2            Datsun 710  22.8    4  108.0   93  3.85  2.320  18.61   1   1   \n",
       "3        Hornet 4 Drive  21.4    6  258.0  110  3.08  3.215  19.44   1   0   \n",
       "4     Hornet Sportabout  18.7    8  360.0  175  3.15  3.440  17.02   0   0   \n",
       "5               Valiant  18.1    6  225.0  105  2.76  3.460  20.22   1   0   \n",
       "6            Duster 360  14.3    8  360.0  245  3.21  3.570  15.84   0   0   \n",
       "7             Merc 240D  24.4    4  146.7   62  3.69  3.190  20.00   1   0   \n",
       "8              Merc 230  22.8    4  140.8   95  3.92  3.150  22.90   1   0   \n",
       "9              Merc 280  19.2    6  167.6  123  3.92  3.440  18.30   1   0   \n",
       "10            Merc 280C  17.8    6  167.6  123  3.92  3.440  18.90   1   0   \n",
       "11           Merc 450SE  16.4    8  275.8  180  3.07  4.070  17.40   0   0   \n",
       "12           Merc 450SL  17.3    8  275.8  180  3.07  3.730  17.60   0   0   \n",
       "13          Merc 450SLC  15.2    8  275.8  180  3.07  3.780  18.00   0   0   \n",
       "14   Cadillac Fleetwood  10.4    8  472.0  205  2.93  5.250  17.98   0   0   \n",
       "15  Lincoln Continental  10.4    8  460.0  215  3.00  5.424  17.82   0   0   \n",
       "16    Chrysler Imperial  14.7    8  440.0  230  3.23  5.345  17.42   0   0   \n",
       "17             Fiat 128  32.4    4   78.7   66  4.08  2.200  19.47   1   1   \n",
       "18          Honda Civic  30.4    4   75.7   52  4.93  1.615  18.52   1   1   \n",
       "19       Toyota Corolla  33.9    4   71.1   65  4.22  1.835  19.90   1   1   \n",
       "20        Toyota Corona  21.5    4  120.1   97  3.70  2.465  20.01   1   0   \n",
       "21     Dodge Challenger  15.5    8  318.0  150  2.76  3.520  16.87   0   0   \n",
       "22          AMC Javelin  15.2    8  304.0  150  3.15  3.435  17.30   0   0   \n",
       "23           Camaro Z28  13.3    8  350.0  245  3.73  3.840  15.41   0   0   \n",
       "24     Pontiac Firebird  19.2    8  400.0  175  3.08  3.845  17.05   0   0   \n",
       "25            Fiat X1-9  27.3    4   79.0   66  4.08  1.935  18.90   1   1   \n",
       "26        Porsche 914-2  26.0    4  120.3   91  4.43  2.140  16.70   0   1   \n",
       "27         Lotus Europa  30.4    4   95.1  113  3.77  1.513  16.90   1   1   \n",
       "28       Ford Pantera L  15.8    8  351.0  264  4.22  3.170  14.50   0   1   \n",
       "29         Ferrari Dino  19.7    6  145.0  175  3.62  2.770  15.50   0   1   \n",
       "30        Maserati Bora  15.0    8  301.0  335  3.54  3.570  14.60   0   1   \n",
       "31           Volvo 142E  21.4    4  121.0  109  4.11  2.780  18.60   1   1   \n",
       "\n",
       "    gear  carb  \n",
       "0      4     4  \n",
       "1      4     4  \n",
       "2      4     1  \n",
       "3      3     1  \n",
       "4      3     2  \n",
       "5      3     1  \n",
       "6      3     4  \n",
       "7      4     2  \n",
       "8      4     2  \n",
       "9      4     4  \n",
       "10     4     4  \n",
       "11     3     3  \n",
       "12     3     3  \n",
       "13     3     3  \n",
       "14     3     4  \n",
       "15     3     4  \n",
       "16     3     4  \n",
       "17     4     1  \n",
       "18     4     2  \n",
       "19     4     1  \n",
       "20     3     1  \n",
       "21     3     2  \n",
       "22     3     2  \n",
       "23     3     4  \n",
       "24     3     2  \n",
       "25     4     1  \n",
       "26     5     2  \n",
       "27     5     2  \n",
       "28     5     4  \n",
       "29     5     6  \n",
       "30     5     8  \n",
       "31     4     2  "
      ]
     },
     "execution_count": 24,
     "metadata": {},
     "output_type": "execute_result"
    }
   ],
   "source": [
    "df = pd.read_csv('./data/mtcars.csv')\n",
    "df"
   ]
  },
  {
   "cell_type": "code",
   "execution_count": 25,
   "id": "55288b31-598a-47c7-8ae8-f4bafce59ebb",
   "metadata": {},
   "outputs": [
    {
     "name": "stdout",
     "output_type": "stream",
     "text": [
      "Requirement already satisfied: seaborn in /home/sudip/personal/d2l/d2l_venv/lib/python3.9/site-packages (0.13.2)\n",
      "Requirement already satisfied: numpy!=1.24.0,>=1.20 in /home/sudip/personal/d2l/d2l_venv/lib/python3.9/site-packages (from seaborn) (1.23.5)\n",
      "Requirement already satisfied: pandas>=1.2 in /home/sudip/personal/d2l/d2l_venv/lib/python3.9/site-packages (from seaborn) (2.0.3)\n",
      "Requirement already satisfied: matplotlib!=3.6.1,>=3.4 in /home/sudip/personal/d2l/d2l_venv/lib/python3.9/site-packages (from seaborn) (3.7.2)\n",
      "Requirement already satisfied: contourpy>=1.0.1 in /home/sudip/personal/d2l/d2l_venv/lib/python3.9/site-packages (from matplotlib!=3.6.1,>=3.4->seaborn) (1.2.0)\n",
      "Requirement already satisfied: cycler>=0.10 in /home/sudip/personal/d2l/d2l_venv/lib/python3.9/site-packages (from matplotlib!=3.6.1,>=3.4->seaborn) (0.12.1)\n",
      "Requirement already satisfied: fonttools>=4.22.0 in /home/sudip/personal/d2l/d2l_venv/lib/python3.9/site-packages (from matplotlib!=3.6.1,>=3.4->seaborn) (4.46.0)\n",
      "Requirement already satisfied: kiwisolver>=1.0.1 in /home/sudip/personal/d2l/d2l_venv/lib/python3.9/site-packages (from matplotlib!=3.6.1,>=3.4->seaborn) (1.4.5)\n",
      "Requirement already satisfied: packaging>=20.0 in /home/sudip/personal/d2l/d2l_venv/lib/python3.9/site-packages (from matplotlib!=3.6.1,>=3.4->seaborn) (23.2)\n",
      "Requirement already satisfied: pillow>=6.2.0 in /home/sudip/personal/d2l/d2l_venv/lib/python3.9/site-packages (from matplotlib!=3.6.1,>=3.4->seaborn) (10.1.0)\n",
      "Requirement already satisfied: pyparsing<3.1,>=2.3.1 in /home/sudip/personal/d2l/d2l_venv/lib/python3.9/site-packages (from matplotlib!=3.6.1,>=3.4->seaborn) (3.0.9)\n",
      "Requirement already satisfied: python-dateutil>=2.7 in /home/sudip/personal/d2l/d2l_venv/lib/python3.9/site-packages (from matplotlib!=3.6.1,>=3.4->seaborn) (2.8.2)\n",
      "Requirement already satisfied: importlib-resources>=3.2.0 in /home/sudip/personal/d2l/d2l_venv/lib/python3.9/site-packages (from matplotlib!=3.6.1,>=3.4->seaborn) (6.1.1)\n",
      "Requirement already satisfied: pytz>=2020.1 in /home/sudip/personal/d2l/d2l_venv/lib/python3.9/site-packages (from pandas>=1.2->seaborn) (2023.3.post1)\n",
      "Requirement already satisfied: tzdata>=2022.1 in /home/sudip/personal/d2l/d2l_venv/lib/python3.9/site-packages (from pandas>=1.2->seaborn) (2023.3)\n",
      "Requirement already satisfied: zipp>=3.1.0 in /home/sudip/personal/d2l/d2l_venv/lib/python3.9/site-packages (from importlib-resources>=3.2.0->matplotlib!=3.6.1,>=3.4->seaborn) (3.17.0)\n",
      "Requirement already satisfied: six>=1.5 in /home/sudip/personal/d2l/d2l_venv/lib/python3.9/site-packages (from python-dateutil>=2.7->matplotlib!=3.6.1,>=3.4->seaborn) (1.16.0)\n"
     ]
    }
   ],
   "source": [
    "!pip install seaborn\n",
    "import seaborn as sns\n",
    "# For Heatmap Plot"
   ]
  },
  {
   "cell_type": "code",
   "execution_count": 26,
   "id": "a83c5309-2e3e-432c-86f0-c80278fa79cd",
   "metadata": {},
   "outputs": [
    {
     "name": "stdout",
     "output_type": "stream",
     "text": [
      "Correlation Matrix:\n",
      "           mpg       cyl      disp        hp      drat        wt      qsec  \\\n",
      "mpg   1.000000 -0.852162 -0.847551 -0.776168  0.681172 -0.867659  0.418684   \n",
      "cyl  -0.852162  1.000000  0.902033  0.832447 -0.699938  0.782496 -0.591242   \n",
      "disp -0.847551  0.902033  1.000000  0.790949 -0.710214  0.887980 -0.433698   \n",
      "hp   -0.776168  0.832447  0.790949  1.000000 -0.448759  0.658748 -0.708223   \n",
      "drat  0.681172 -0.699938 -0.710214 -0.448759  1.000000 -0.712441  0.091205   \n",
      "wt   -0.867659  0.782496  0.887980  0.658748 -0.712441  1.000000 -0.174716   \n",
      "qsec  0.418684 -0.591242 -0.433698 -0.708223  0.091205 -0.174716  1.000000   \n",
      "vs    0.664039 -0.810812 -0.710416 -0.723097  0.440278 -0.554916  0.744535   \n",
      "am    0.599832 -0.522607 -0.591227 -0.243204  0.712711 -0.692495 -0.229861   \n",
      "gear  0.480285 -0.492687 -0.555569 -0.125704  0.699610 -0.583287 -0.212682   \n",
      "carb -0.550925  0.526988  0.394977  0.749812 -0.090790  0.427606 -0.656249   \n",
      "\n",
      "            vs        am      gear      carb  \n",
      "mpg   0.664039  0.599832  0.480285 -0.550925  \n",
      "cyl  -0.810812 -0.522607 -0.492687  0.526988  \n",
      "disp -0.710416 -0.591227 -0.555569  0.394977  \n",
      "hp   -0.723097 -0.243204 -0.125704  0.749812  \n",
      "drat  0.440278  0.712711  0.699610 -0.090790  \n",
      "wt   -0.554916 -0.692495 -0.583287  0.427606  \n",
      "qsec  0.744535 -0.229861 -0.212682 -0.656249  \n",
      "vs    1.000000  0.168345  0.206023 -0.569607  \n",
      "am    0.168345  1.000000  0.794059  0.057534  \n",
      "gear  0.206023  0.794059  1.000000  0.274073  \n",
      "carb -0.569607  0.057534  0.274073  1.000000  \n"
     ]
    },
    {
     "data": {
      "image/png": "[encoded data removed]",
      "text/plain": [
       "<Figure size 1200x800 with 2 Axes>"
      ]
     },
     "metadata": {},
     "output_type": "display_data"
    }
   ],
   "source": [
    "# Remove 'model' column and create a new DataFrame that has only Numeric Columns for Correlation Analysis\n",
    "df_numeric = df.drop(columns=['model'])\n",
    "\n",
    "# Calculate correlation matrix\n",
    "corr_matrix = df_numeric.corr()\n",
    "\n",
    "# Print correlation matrix\n",
    "print(\"Correlation Matrix:\")\n",
    "print(corr_matrix)\n",
    "\n",
    "# Plot heatmap\n",
    "plt.figure(figsize=(12, 8))\n",
    "sns.heatmap(corr_matrix, annot=True, cmap='coolwarm', fmt='.2f', linewidths=.5)\n",
    "plt.title('Correlation Heatmap')\n",
    "plt.show()"
   ]
  },
  {
   "cell_type": "markdown",
   "id": "ef0edd45-ce1c-4536-940e-027a49a38203",
   "metadata": {
    "id": "ef0edd45-ce1c-4536-940e-027a49a38203"
   },
   "source": [
    "### Problem 6: Hypothesis testing\n",
    "Imagine a company, samsung, that manufactures a popular smartphone. They have introduced a new battery designed to last longer than the previous model, which had an average battery life of 10 hours. To determine if the new battery indeed lasts longer, samsung conducts a study where they test 30 smartphones with the new battery and record their battery life. The goal is to test the hypothesis that the mean battery life of the new batteries is greater than 10 hours using a one-tailed test."
   ]
  },
  {
   "cell_type": "markdown",
   "id": "b4fff557-adff-474c-818f-3f225e9d2fcb",
   "metadata": {
    "id": "b4fff557-adff-474c-818f-3f225e9d2fcb"
   },
   "source": [
    "Hypothesis:\n",
    "- Null Hypothesis (H₀): The mean battery life of the new battery is 10 hours.\n",
    "- Alternative Hypothesis (H₁): The mean battery life of the new battery is greater than 10 hours."
   ]
  },
  {
   "cell_type": "markdown",
   "id": "da484b43-9770-4277-b612-63320e94d1e4",
   "metadata": {},
   "source": [
    "## Formula\n",
    "### t = ( x_bar - μ0 ) / ( s/sqrt(n) )\n",
    "\n",
    "### x_bar is the sample mean,\n",
    "### μ0 is the hypothesized population mean under the null hypothesis (10 hours),\n",
    "### s is the sample standard deviation,\n",
    "### n is the sample size (30 in this case)."
   ]
  },
  {
   "cell_type": "code",
   "execution_count": 27,
   "id": "572cd556-ae7d-4999-912d-1e0a773f1739",
   "metadata": {
    "id": "572cd556-ae7d-4999-912d-1e0a773f1739"
   },
   "outputs": [
    {
     "name": "stdout",
     "output_type": "stream",
     "text": [
      "Average batttery life: [20.12054952 13.88439813 14.72390834 13.51147726 13.95335384 11.04204587\n",
      "  9.45576905 13.81789605  5.94549527 14.22036617 13.58644048 10.2329984\n",
      " 12.56608593  9.72338383  9.20028835 14.86516953 12.57238297 17.93627197\n",
      " 19.81790184 14.05052666 12.90799635 17.08116878  6.88174221  8.52264175\n",
      " 11.59547784 13.17158353 12.50071391 12.55350558 14.42311774 12.21887903]\n",
      "T-value:  4.931150333408257\n"
     ]
    }
   ],
   "source": [
    "# Set seed for reproducibility\n",
    "np.random.seed(101)\n",
    "\n",
    "# Number of samples\n",
    "n = 30\n",
    "# Hypothesized Population Mean (miu)\n",
    "miu = 10\n",
    "\n",
    "# Generate random Average Battery Life data (assuming Mean is 10 hours and Standard Deviation is 3)\n",
    "\"\"\"\n",
    "Change the value of loc(mean) below to obtain various diffrent data and thus results.\n",
    "\"\"\"\n",
    "avg_battery_life = np.random.normal(loc = 12, scale = 3, size = n) \n",
    "print(\"Average batttery life:\",avg_battery_life)\n",
    "\n",
    "sample_mean = np.mean(avg_battery_life)\n",
    "sample_standard_deviation = np.std(avg_battery_life)\n",
    "t = (sample_mean - miu)/(sample_standard_deviation/np.sqrt(n))\n",
    "print(\"T-value: \",t)"
   ]
  },
  {
   "cell_type": "markdown",
   "id": "39380764-f44f-47eb-b459-31bc15f7cf79",
   "metadata": {
    "id": "4e2060d2-5e96-4f05-b5ba-5fc4fdfb1b24"
   },
   "source": [
    "### Find the critical value from the t-distribution table with 29 degrees of freedom (since n−1=30−1=29) for a one-tailed test at α = 0.05. Let's assume the critical value (from the table) is 1.699 (this value is illustrative, actual critical value may differ based on degrees of freedom and α)."
   ]
  },
  {
   "cell_type": "code",
   "execution_count": 28,
   "id": "375e4e18-37e0-4ca2-b3bd-b6d9faa38f23",
   "metadata": {},
   "outputs": [
    {
     "name": "stdout",
     "output_type": "stream",
     "text": [
      "Null Hypothesis rejected. Battery Life has signifiantly improved, > 10 hours!\n"
     ]
    }
   ],
   "source": [
    "critical_value = 1.699\n",
    "if(t > critical_value):\n",
    "    print(\"Null Hypothesis rejected. Battery Life has signifiantly improved, > 10 hours!\")\n",
    "else:\n",
    "    print(\"Null Hypothesis accepted. Battery Life has no significant improvement.\")"
   ]
  },
  {
   "cell_type": "markdown",
   "id": "zVgJm65-oTnO",
   "metadata": {
    "id": "zVgJm65-oTnO"
   },
   "source": [
    "## Summarizing categorical variables\n",
    "\n",
    "1. Frequency table\n",
    "\t1. Value count of blood type\n",
    "\t2. Value count of gender\n",
    "\t3. Value count as proportions\n",
    "2. Contengency table\n",
    "\t1. Cross table of bloodtype and gender\n",
    "\t2. explore margins\n",
    "3.\n",
    "## Interval Estimation of the Proportion\n",
    "\n",
    "```\n",
    "HINT: explore st.norm.interval\n",
    "```\n",
    "\n",
    "1.  There are two candidates for the election: A and B.\n",
    "The candidate A wants to survey his approval rating.\n",
    "Out of 100 suerveyed, 55 answered positively.\n",
    "Can A be sure of this election?\n",
    "- Assume that A gets elected with 50% or more.\n",
    "- Use 95% confidence interval.\n",
    "\n",
    "\n",
    "\n",
    "2. Out of 1000 suerveyed, 550 answered positively. Can A be sure of this election?\n",
    "- Assume that A gets elected with 50% or more.\n",
    "- Use 95% confidence interval.\n",
    "\n",
    "\n",
    "### How can we know that the three groups are same or different?\n",
    "\n",
    "- There are three groups of students. The data corresponds to the test scores. Determine whether there is any significant difference in the group test scores.\n",
    "```python\n",
    "# Data\n",
    "x1 = np.array([82,93,61,74,69,70,53])\n",
    "x2 = np.array([71,62,85,94,78,66,71])\n",
    "x3 = np.array([64,73,87,91,56,78,87])\n",
    "```\n"
   ]
  },
  {
   "cell_type": "markdown",
   "id": "1d698822-7a61-429f-aea8-8cd8d2f66054",
   "metadata": {},
   "source": [
    "## Solution to Question 1"
   ]
  },
  {
   "cell_type": "code",
   "execution_count": 29,
   "id": "faa247ca-0993-47ff-9931-029f2105aa4e",
   "metadata": {},
   "outputs": [
    {
     "name": "stdout",
     "output_type": "stream",
     "text": [
      "The test-statistic value (z value) is 1.0000000000000009.\n",
      "The candidate A is NOT sure to win the election with above 50% votes. :(\n"
     ]
    }
   ],
   "source": [
    "\"\"\"\n",
    "Null Hypothesis: H0 : p >= 0.5\n",
    "Alternative Hypothesis Ha : p < 0.5\n",
    "\n",
    "Using Large Sample Z-test for proportion\n",
    "\"\"\"\n",
    "n = 100\n",
    "p_cap = 55/n # Sample Proportion\n",
    "p_0 = 0.5 # Estimated Population Proportion\n",
    "z = (p_cap - p_0)/np.sqrt(p_0*(1-p_0)/n)\n",
    "print(f\"The test-statistic value (z value) is {z}.\")\n",
    "\"\"\"\n",
    "The z-value for a 95% confidence interval is 1.96.\n",
    "\"\"\"\n",
    "z_value_for_95_confidence_interval = 1.96\n",
    "if (z > z_value_for_95_confidence_interval):\n",
    "    print(\"The candidate A is sure to win the election with above 50% votes. :)\")\n",
    "else:\n",
    "    print(\"The candidate A is NOT sure to win the election with above 50% votes. :(\")"
   ]
  },
  {
   "cell_type": "markdown",
   "id": "be03f7ec-1d8d-488f-b255-40acc383cb3b",
   "metadata": {},
   "source": [
    "## Using st.norm.interval\n",
    "### The st.norm.interval function from the scipy.stats module in Python is used to calculate the confidence interval for a normal distribution."
   ]
  },
  {
   "cell_type": "code",
   "execution_count": 31,
   "id": "38e2776c-412d-46f4-b4bb-6e621bd6eeee",
   "metadata": {},
   "outputs": [
    {
     "name": "stdout",
     "output_type": "stream",
     "text": [
      "(0.45249302291006066, 0.6475069770899394)\n"
     ]
    }
   ],
   "source": [
    "import scipy.stats as st\n",
    "\n",
    "# Given data\n",
    "x = 55\n",
    "n = 100\n",
    "confidence_level = 0.95\n",
    "\n",
    "# Sample proportion\n",
    "p_hat = x / n\n",
    "\n",
    "# Standard error\n",
    "se = np.sqrt(p_hat * (1 - p_hat) / n)\n",
    "\n",
    "# Confidence interval\n",
    "ci = st.norm.interval(confidence_level, loc=p_hat, scale=se)\n",
    "print(ci)"
   ]
  },
  {
   "cell_type": "code",
   "execution_count": 37,
   "id": "33609a08-7f66-4071-86be-5bb24df22ef8",
   "metadata": {},
   "outputs": [
    {
     "name": "stdout",
     "output_type": "stream",
     "text": [
      "The candidate A is sure to win the election with above 50% votes. :)\n"
     ]
    }
   ],
   "source": [
    "\"\"\"\n",
    "If lower bound of confidence interval is greater than 0.5, then A is sure to win with votes > 50%.\n",
    "\"\"\"\n",
    "if ci[0] > 0.5:\n",
    "    print(\"The candidate A is sure to win the election with above 50% votes. :)\")\n",
    "else:\n",
    "    print(\"The candidate A is NOT sure to win the election with above 50% votes. :(\")"
   ]
  },
  {
   "cell_type": "markdown",
   "id": "002d39ca-a59a-4b01-a7f8-d54bf14a842e",
   "metadata": {},
   "source": [
    "## Solution to Question 2"
   ]
  },
  {
   "cell_type": "code",
   "execution_count": 30,
   "id": "cf11c41f-e99c-447c-9f74-5940b5dedce1",
   "metadata": {},
   "outputs": [
    {
     "name": "stdout",
     "output_type": "stream",
     "text": [
      "The test-statistic value (z value) is 3.162277660168382.\n",
      "The candidate A is sure to win the election with above 50% votes. :)\n"
     ]
    }
   ],
   "source": [
    "\"\"\"\n",
    "Null Hypothesis: H0 : p >= 0.5\n",
    "Alternative Hypothesis Ha : p < 0.5\n",
    "\n",
    "Using Large Sample Z-test for proportion\n",
    "\"\"\"\n",
    "n = 1000\n",
    "p_cap = 550/n # Sample Proportion\n",
    "p_0 = 0.5 # Estimated Population Proportion\n",
    "z = (p_cap - 0.5)/np.sqrt(p_0*(1-p_0)/n)\n",
    "print(f\"The test-statistic value (z value) is {z}.\")\n",
    "\"\"\"\n",
    "The z-value for a 95% confidence interval is 1.96.\n",
    "\"\"\"\n",
    "z_value_for_95_confidence_interval = 1.96\n",
    "if (z > z_value_for_95_confidence_interval):\n",
    "    print(\"The candidate A is sure to win the election with above 50% votes. :)\")\n",
    "else:\n",
    "    print(\"The candidate A is NOT sure to win the election with above 50% votes. :(\")"
   ]
  },
  {
   "cell_type": "markdown",
   "id": "d168a325-d284-47c4-aae0-20d25c48dc94",
   "metadata": {
    "id": "KAvZSC9woUF7"
   },
   "source": [
    "## Using st.norm.interval\n",
    "### The st.norm.interval function from the scipy.stats module in Python is used to calculate the confidence interval for a normal distribution."
   ]
  },
  {
   "cell_type": "code",
   "execution_count": 35,
   "id": "b4883472-6efe-4734-9428-10af0a8bd57a",
   "metadata": {},
   "outputs": [
    {
     "name": "stdout",
     "output_type": "stream",
     "text": [
      "(0.5191655864637935, 0.5808344135362066)\n"
     ]
    }
   ],
   "source": [
    "# Given data\n",
    "x = 550\n",
    "n = 1000\n",
    "confidence_level = 0.95\n",
    "\n",
    "# Sample proportion\n",
    "p_hat = x / n\n",
    "\n",
    "# Standard error\n",
    "se = np.sqrt(p_hat * (1 - p_hat) / n)\n",
    "\n",
    "# Confidence interval\n",
    "ci = st.norm.interval(confidence_level, loc=p_hat, scale=se)\n",
    "print(ci)"
   ]
  },
  {
   "cell_type": "code",
   "execution_count": 38,
   "id": "9ce7e20a-1380-4a4b-815f-1d02324b77eb",
   "metadata": {},
   "outputs": [
    {
     "name": "stdout",
     "output_type": "stream",
     "text": [
      "The candidate A is sure to win the election with above 50% votes. :)\n"
     ]
    }
   ],
   "source": [
    "\"\"\"\n",
    "If lower bound of confidence interval is greater than 0.5, then A is sure to win with votes > 50%.\n",
    "\"\"\"\n",
    "if ci[0] > 0.5:\n",
    "    print(\"The candidate A is sure to win the election with above 50% votes. :)\")\n",
    "else:\n",
    "    print(\"The candidate A is NOT sure to win the election with above 50% votes. :(\")"
   ]
  },
  {
   "cell_type": "markdown",
   "id": "68c9cf95-13c9-404f-be2f-dc9984830964",
   "metadata": {},
   "source": [
    "## Test of Significance Test by One Way Anova"
   ]
  },
  {
   "cell_type": "code",
   "execution_count": 39,
   "id": "cce1a19d-0ecb-479b-b869-52a3b7379989",
   "metadata": {},
   "outputs": [],
   "source": [
    "# Data\n",
    "x1 = np.array([82,93,61,74,69,70,53])\n",
    "x2 = np.array([71,62,85,94,78,66,71])\n",
    "x3 = np.array([64,73,87,91,56,78,87])"
   ]
  },
  {
   "cell_type": "code",
   "execution_count": 41,
   "id": "a6a398b0-53ce-4c91-9a9b-6ea95d2cbab0",
   "metadata": {},
   "outputs": [
    {
     "name": "stdout",
     "output_type": "stream",
     "text": [
      "F-statistic: 0.2837261275904103\n",
      "P-Value: 0.7562784116739912\n",
      "There is no signigicant difference in the group test scores.\n"
     ]
    }
   ],
   "source": [
    "# Perform One Way Anova Test\n",
    "f_statistics, p_value = st.f_oneway(x1, x2, x3)\n",
    "\n",
    "print(f\"F-statistic: {f_statistics}\")\n",
    "print(f\"P-Value: {p_value}\")\n",
    "\n",
    "# Interpretation\n",
    "alpha = 0.05\n",
    "if p_value < alpha:\n",
    "    print(\"There is a significant difference in the group test scores.\")\n",
    "else:\n",
    "    print(\"There is no signigicant difference in the group test scores.\")"
   ]
  }
 ],
 "metadata": {
  "colab": {
   "provenance": []
  },
  "kernelspec": {
   "display_name": "Python 3 (ipykernel)",
   "language": "python",
   "name": "python3"
  },
  "language_info": {
   "codemirror_mode": {
    "name": "ipython",
    "version": 3
   },
   "file_extension": ".py",
   "mimetype": "text/x-python",
   "name": "python",
   "nbconvert_exporter": "python",
   "pygments_lexer": "ipython3",
   "version": "3.9.18"
  }
 },
 "nbformat": 4,
 "nbformat_minor": 5
}
