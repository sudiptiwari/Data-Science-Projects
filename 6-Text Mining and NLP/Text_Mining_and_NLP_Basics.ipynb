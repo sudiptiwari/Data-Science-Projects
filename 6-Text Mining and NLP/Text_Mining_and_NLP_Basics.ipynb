{
 "cells": [
  {
   "cell_type": "markdown",
   "id": "14889d2d-d540-46a4-ba1b-0f1036a4546a",
   "metadata": {},
   "source": [
    "## To follow course notebook go to: \n",
    "### https://drive.google.com/drive/u/0/folders/1IBIX-XVcGw89t-2nr4cm3CfvLIHC8yh0"
   ]
  },
  {
   "cell_type": "markdown",
   "id": "6c3787e0-e296-4c05-a06d-ea4d3a4d122d",
   "metadata": {},
   "source": [
    "## Basic String Manipulation with Python"
   ]
  },
  {
   "cell_type": "code",
   "execution_count": 18,
   "id": "0e4f936b-47d1-4791-bd2b-f16a55e2ccbd",
   "metadata": {},
   "outputs": [],
   "source": [
    "my_string = 'Lionel Messi is the GoAt.'"
   ]
  },
  {
   "cell_type": "code",
   "execution_count": 19,
   "id": "99870eae-2e13-4bcc-a315-f2d2b2ece95f",
   "metadata": {},
   "outputs": [
    {
     "name": "stdout",
     "output_type": "stream",
     "text": [
      "lionel messi is the goat.\n"
     ]
    }
   ],
   "source": [
    "print(my_string.lower())"
   ]
  },
  {
   "cell_type": "code",
   "execution_count": 20,
   "id": "157b3b42-c4bf-43a3-9155-9cdeaf161907",
   "metadata": {},
   "outputs": [
    {
     "name": "stdout",
     "output_type": "stream",
     "text": [
      "LIONEL MESSI IS THE GOAT.\n"
     ]
    }
   ],
   "source": [
    "print(my_string.upper())"
   ]
  },
  {
   "cell_type": "code",
   "execution_count": 21,
   "id": "04792126-3b0e-49e1-8125-2b7ff896f566",
   "metadata": {},
   "outputs": [
    {
     "name": "stdout",
     "output_type": "stream",
     "text": [
      "['Lionel', 'Messi', 'is', 'the', 'GoAt.']\n"
     ]
    }
   ],
   "source": [
    "print(my_string.split(' '))"
   ]
  },
  {
   "cell_type": "code",
   "execution_count": 22,
   "id": "1604da7b-e3f0-4417-b368-9efdc7f88a4d",
   "metadata": {},
   "outputs": [],
   "source": [
    "first_string = 'Aaha Tamatar bade majedaar'\n",
    "second_string = 'Wah Tamater bade majedaar'"
   ]
  },
  {
   "cell_type": "code",
   "execution_count": 23,
   "id": "3ab0fcb9-b12f-41e5-8023-af8ba64e534f",
   "metadata": {},
   "outputs": [
    {
     "name": "stdout",
     "output_type": "stream",
     "text": [
      "Aaha Tamatar bade majedaar Wah Tamater bade majedaar\n"
     ]
    }
   ],
   "source": [
    "result = first_string + ' ' + second_string\n",
    "print(result)"
   ]
  },
  {
   "cell_type": "code",
   "execution_count": 24,
   "id": "7e7401af-0435-4cf8-9e0b-9c527d766375",
   "metadata": {},
   "outputs": [
    {
     "name": "stdout",
     "output_type": "stream",
     "text": [
      "26\n"
     ]
    }
   ],
   "source": [
    "print(len(first_string))"
   ]
  },
  {
   "cell_type": "code",
   "execution_count": 25,
   "id": "60793f9c-6996-4eb6-87a8-9b39f426cf58",
   "metadata": {},
   "outputs": [
    {
     "data": {
      "text/plain": [
       "9"
      ]
     },
     "execution_count": 25,
     "metadata": {},
     "output_type": "execute_result"
    }
   ],
   "source": [
    "# Count lower case 'a'\n",
    "first_string.count('a')"
   ]
  },
  {
   "cell_type": "code",
   "execution_count": 26,
   "id": "e8f4e5a7-6d03-4009-b31b-f3ce4d9257e1",
   "metadata": {},
   "outputs": [
    {
     "name": "stdout",
     "output_type": "stream",
     "text": [
      "Aaha Tamatar\n"
     ]
    }
   ],
   "source": [
    "substring = first_string[0:12]\n",
    "print(substring)"
   ]
  },
  {
   "cell_type": "markdown",
   "id": "11d3b316-0830-4e7e-8040-251bbfd80079",
   "metadata": {},
   "source": [
    "## Regular Expression"
   ]
  },
  {
   "cell_type": "code",
   "execution_count": 27,
   "id": "450a2071-e482-47da-bd3b-45ab4a2a0475",
   "metadata": {},
   "outputs": [],
   "source": [
    "import re"
   ]
  },
  {
   "cell_type": "markdown",
   "id": "73ec9ce1-64e3-4ca3-8cc6-0110eab9028a",
   "metadata": {},
   "source": [
    "### 1. ^ (Caret)\n",
    " \n",
    "- Description: Matches the start of a string.\n",
    "- Usage: Used to check if a string starts with a certain character or pattern."
   ]
  },
  {
   "cell_type": "code",
   "execution_count": 28,
   "id": "02f6e52b-de92-4da8-a7f9-87291c18cfe1",
   "metadata": {},
   "outputs": [
    {
     "name": "stdout",
     "output_type": "stream",
     "text": [
      "<re.Match object; span=(0, 5), match='Hello'>\n",
      "None\n"
     ]
    }
   ],
   "source": [
    "pattern = r\"^Hello\"\n",
    "text = \"Hello world\"\n",
    "match = re.match(pattern, text)\n",
    "print(match)  # Output: <re.Match object; span=(0, 5), match='Hello'>\n",
    "\n",
    "text2 = \"Hi, Hello world\"\n",
    "match2 = re.match(pattern, text2)\n",
    "print(match2)  # Output: None"
   ]
  },
  {
   "cell_type": "markdown",
   "id": "47113360-242b-4cb2-b702-e599562af8e4",
   "metadata": {},
   "source": [
    "### 2. $ (Dollar Sign)\n",
    "\n",
    "- Description: Matches the end of a string.\n",
    "- Usage: Used to check if a string ends with a certain character or pattern."
   ]
  },
  {
   "cell_type": "code",
   "execution_count": 29,
   "id": "65a59ddb-8024-4dc8-b19b-8ab0cd479805",
   "metadata": {},
   "outputs": [
    {
     "name": "stdout",
     "output_type": "stream",
     "text": [
      "<re.Match object; span=(6, 11), match='world'>\n",
      "None\n"
     ]
    }
   ],
   "source": [
    "pattern = r\"world$\"\n",
    "text = \"Hello world\"\n",
    "match = re.search(pattern, text)\n",
    "print(match)  # Output: <re.Match object; span=(6, 11), match='world'>\n",
    "\n",
    "text2 = \"Hello world!\"\n",
    "match2 = re.search(pattern, text2)\n",
    "print(match2)  # Output: None"
   ]
  },
  {
   "cell_type": "markdown",
   "id": "c1e89a5d-d942-477e-a3e7-d1cf5601acfb",
   "metadata": {},
   "source": [
    "### 3. ? (Question Mark)\n",
    "\n",
    "- Description: Matches 0 or 1 occurrence of the preceding element.\n",
    "- Usage: Used to denote that the preceding character or group is optional."
   ]
  },
  {
   "cell_type": "code",
   "execution_count": 30,
   "id": "ae4a5d93-3179-42dc-873e-5bec8a1ca1cd",
   "metadata": {},
   "outputs": [
    {
     "name": "stdout",
     "output_type": "stream",
     "text": [
      "<re.Match object; span=(0, 5), match='color'>\n",
      "<re.Match object; span=(0, 6), match='colour'>\n",
      "None\n"
     ]
    }
   ],
   "source": [
    "pattern = r\"colou?r\"\n",
    "text1 = \"color\"\n",
    "text2 = \"colour\"\n",
    "text3 = \"colouur\"\n",
    "\n",
    "match1 = re.search(pattern, text1)\n",
    "print(match1)  # Output: <re.Match object; span=(0, 5), match='color'>\n",
    "\n",
    "match2 = re.search(pattern, text2)\n",
    "print(match2)  # Output: <re.Match object; span=(0, 6), match='colour'>\n",
    "\n",
    "match3 = re.search(pattern, text3)\n",
    "print(match3)  # Output: None"
   ]
  },
  {
   "cell_type": "markdown",
   "id": "afcbf9dd-6773-40ce-adbc-5cf72eaf452e",
   "metadata": {},
   "source": [
    "### 4. . (Dot)\n",
    "\n",
    "- Description: Matches any single character except a newline.\n",
    "- Usage: Used to match any character at a specific position."
   ]
  },
  {
   "cell_type": "code",
   "execution_count": 34,
   "id": "b9c27661-9dab-4d93-97c9-e16088e69a8b",
   "metadata": {},
   "outputs": [
    {
     "name": "stdout",
     "output_type": "stream",
     "text": [
      "['hat', 'hot', 'hit', 'hut']\n"
     ]
    }
   ],
   "source": [
    "pattern = r\"h.t\"\n",
    "text = \"hat hot hit hut ram\"\n",
    "matches = re.findall(pattern, text)\n",
    "print(matches)  # Output: ['hat', 'hot', 'hit', 'hut']"
   ]
  },
  {
   "cell_type": "markdown",
   "id": "ea0db39c-30aa-4abe-8b11-7d713e88e68c",
   "metadata": {},
   "source": [
    "### 5. {m,n} (Curly Braces)\n",
    "\n",
    "- Description: Matches between m and n occurrences of the preceding element.\n",
    "- Usage: Used to specify the minimum and maximum number of times the preceding element can occur."
   ]
  },
  {
   "cell_type": "code",
   "execution_count": 32,
   "id": "d111cc21-2375-4619-8777-31ffd02e0403",
   "metadata": {},
   "outputs": [
    {
     "name": "stdout",
     "output_type": "stream",
     "text": [
      "['a', 'aa', 'aaa', 'aaa', 'a']\n",
      "['bb', 'bbb', 'bbbb', 'bbbb']\n"
     ]
    }
   ],
   "source": [
    "pattern = r\"a{1,3}\"\n",
    "text = \"a aa aaa aaaa\"\n",
    "matches = re.findall(pattern, text)\n",
    "print(matches)  # Output: ['a', 'aa', 'aaa', 'aaa']\n",
    "\n",
    "pattern2 = r\"b{2,4}\"\n",
    "text2 = \"b bb bbb bbbb bbbbb\"\n",
    "matches2 = re.findall(pattern2, text2)\n",
    "print(matches2)  # Output: ['bb', 'bbb', 'bbbb']"
   ]
  },
  {
   "cell_type": "markdown",
   "id": "3bed8164-a7d0-4897-821f-72487ab9b95b",
   "metadata": {},
   "source": [
    "### 6. | (Pipe)\n",
    "- Description: Acts as an OR operator, matching the pattern before or after the pipe.\n",
    "- Usage: Used to match one of several patterns."
   ]
  },
  {
   "cell_type": "code",
   "execution_count": 33,
   "id": "5fcf3899-8503-4fa2-9f0b-b8221d90d632",
   "metadata": {},
   "outputs": [
    {
     "name": "stdout",
     "output_type": "stream",
     "text": [
      "['cat', 'dog']\n",
      "['apple', 'banana']\n"
     ]
    }
   ],
   "source": [
    "pattern = r\"cat|dog\"\n",
    "text = \"I have a cat and a dog.\"\n",
    "matches = re.findall(pattern, text)\n",
    "print(matches)  # Output: ['cat', 'dog']\n",
    "\n",
    "pattern2 = r\"apple|banana|cherry\"\n",
    "text2 = \"I like apples, bananas, and cherries.\"\n",
    "matches2 = re.findall(pattern2, text2)\n",
    "print(matches2)  # Output: []"
   ]
  },
  {
   "cell_type": "code",
   "execution_count": null,
   "id": "87d5ced4-0f56-4930-9c59-2782a9035f40",
   "metadata": {},
   "outputs": [],
   "source": []
  },
  {
   "cell_type": "code",
   "execution_count": null,
   "id": "90968698-eb6c-4210-b8dc-0c8dc130f3c9",
   "metadata": {},
   "outputs": [],
   "source": []
  },
  {
   "cell_type": "code",
   "execution_count": 38,
   "id": "8a1381f5-14b2-42e6-9ea2-cbbd806f2750",
   "metadata": {},
   "outputs": [
    {
     "name": "stderr",
     "output_type": "stream",
     "text": [
      "[nltk_data] Downloading package movie_reviews to\n",
      "[nltk_data]     /home/sudip/nltk_data...\n",
      "[nltk_data]   Unzipping corpora/movie_reviews.zip.\n"
     ]
    },
    {
     "data": {
      "text/plain": [
       "True"
      ]
     },
     "execution_count": 38,
     "metadata": {},
     "output_type": "execute_result"
    }
   ],
   "source": [
    "import nltk\n",
    "nltk.download('movie_reviews')"
   ]
  },
  {
   "cell_type": "code",
   "execution_count": 39,
   "id": "401efd98-dfe2-4c46-bb9f-5dc0eb807acf",
   "metadata": {},
   "outputs": [
    {
     "name": "stdout",
     "output_type": "stream",
     "text": [
      "Accuracy: 0.8075\n",
      "              precision    recall  f1-score   support\n",
      "\n",
      "         neg       0.76      0.90      0.82       199\n",
      "         pos       0.88      0.72      0.79       201\n",
      "\n",
      "    accuracy                           0.81       400\n",
      "   macro avg       0.82      0.81      0.81       400\n",
      "weighted avg       0.82      0.81      0.81       400\n",
      "\n"
     ]
    }
   ],
   "source": [
    "import nltk\n",
    "from nltk.corpus import movie_reviews\n",
    "import pandas as pd\n",
    "from sklearn.feature_extraction.text import TfidfVectorizer\n",
    "from sklearn.model_selection import train_test_split\n",
    "from sklearn.naive_bayes import MultinomialNB\n",
    "from sklearn.metrics import accuracy_score, classification_report\n",
    "\n",
    "# Load the dataset\n",
    "documents = [(list(movie_reviews.words(fileid)), category)\n",
    "             for category in movie_reviews.categories()\n",
    "             for fileid in movie_reviews.fileids(category)]\n",
    "\n",
    "# Convert the dataset to a DataFrame\n",
    "df = pd.DataFrame(documents, columns=['text', 'label'])\n",
    "\n",
    "# Combine the words into a single string for each document\n",
    "df['text'] = df['text'].apply(lambda x: ' '.join(x))\n",
    "\n",
    "# Split the data into training and testing sets\n",
    "X_train, X_test, y_train, y_test = train_test_split(df['text'], df['label'], test_size=0.2, random_state=42)\n",
    "\n",
    "# Vectorize the text using TF-IDF\n",
    "vectorizer = TfidfVectorizer()\n",
    "X_train_tfidf = vectorizer.fit_transform(X_train)\n",
    "X_test_tfidf = vectorizer.transform(X_test)\n",
    "\n",
    "# Train a classifier\n",
    "clf = MultinomialNB()\n",
    "clf.fit(X_train_tfidf, y_train)\n",
    "\n",
    "# Make predictions\n",
    "y_pred = clf.predict(X_test_tfidf)\n",
    "\n",
    "# Evaluate the classifier\n",
    "print(f'Accuracy: {accuracy_score(y_test, y_pred)}')\n",
    "print(classification_report(y_test, y_pred))"
   ]
  },
  {
   "cell_type": "code",
   "execution_count": null,
   "id": "6314759d-e9ea-41d7-8eba-fcffb9968002",
   "metadata": {},
   "outputs": [],
   "source": []
  }
 ],
 "metadata": {
  "kernelspec": {
   "display_name": "Python 3 (ipykernel)",
   "language": "python",
   "name": "python3"
  },
  "language_info": {
   "codemirror_mode": {
    "name": "ipython",
    "version": 3
   },
   "file_extension": ".py",
   "mimetype": "text/x-python",
   "name": "python",
   "nbconvert_exporter": "python",
   "pygments_lexer": "ipython3",
   "version": "3.9.18"
  }
 },
 "nbformat": 4,
 "nbformat_minor": 5
}
